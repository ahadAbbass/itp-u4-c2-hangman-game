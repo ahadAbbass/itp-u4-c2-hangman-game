{
  "nbformat": 4,
  "nbformat_minor": 0,
  "metadata": {
    "colab": {
      "provenance": []
    },
    "kernelspec": {
      "name": "python3",
      "display_name": "Python 3"
    },
    "language_info": {
      "name": "python"
    }
  },
  "cells": [
    {
      "cell_type": "code",
      "execution_count": 1,
      "metadata": {
        "id": "zhioxhj0yOfi"
      },
      "outputs": [],
      "source": [
        "def mask_word(word):\n",
        "    return '*' * len(word)\n"
      ]
    },
    {
      "cell_type": "code",
      "source": [
        "def uncover_word(answer_word, masked_word, guessed_letter):\n",
        "    if len(guessed_letter) != 1:\n",
        "        raise ValueError(\"Only single letters are allowed for guessing.\")\n",
        "\n",
        "    new_masked_word = ''\n",
        "\n",
        "    for answer_char, masked_char in zip(answer_word, masked_word):\n",
        "        if masked_char != '*':\n",
        "            new_masked_word += masked_char\n",
        "        elif answer_char.lower() == guessed_letter.lower():\n",
        "            new_masked_word += answer_char\n",
        "        else:\n",
        "            new_masked_word += '*'\n",
        "\n",
        "    return new_masked_word\n"
      ],
      "metadata": {
        "id": "eUPM7jwbyVVU"
      },
      "execution_count": 2,
      "outputs": []
    },
    {
      "cell_type": "code",
      "source": [
        "import random\n",
        "\n",
        "def get_random_word(word_list):\n",
        "    if not word_list:\n",
        "        raise ValueError(\"The word list is empty.\")\n",
        "    return random.choice(word_list)\n"
      ],
      "metadata": {
        "id": "UmfnC4wNyYKL"
      },
      "execution_count": 3,
      "outputs": []
    },
    {
      "cell_type": "code",
      "source": [
        "def guess(game, letter):\n",
        "    if game['remaining_misses'] == 0 or game['masked_word'] == game['answer_word']:\n",
        "        raise ValueError(\"The game is already over.\")\n",
        "\n",
        "    if letter.lower() in game['previous_guesses']:\n",
        "        return game\n",
        "\n",
        "    game['previous_guesses'].append(letter.lower())\n",
        "\n",
        "    if letter.lower() in game['answer_word'].lower():\n",
        "        game['masked_word'] = uncover_word(game['answer_word'], game['masked_word'], letter)\n",
        "    else:\n",
        "        game['remaining_misses'] -= 1\n",
        "\n",
        "    if game['masked_word'] == game['answer_word']:\n",
        "        game['status'] = 'win'\n",
        "    elif game['remaining_misses'] == 0:\n",
        "        game['status'] = 'lose'\n",
        "    else:\n",
        "        game['status'] = 'ongoing'\n",
        "\n",
        "    return game\n"
      ],
      "metadata": {
        "id": "QfGLolrfybDl"
      },
      "execution_count": 4,
      "outputs": []
    },
    {
      "cell_type": "code",
      "source": [
        "def start_new_game(word_list, max_misses):\n",
        "    answer_word = get_random_word(word_list)\n",
        "    game = {\n",
        "        'answer_word': answer_word,\n",
        "        'masked_word': mask_word(answer_word),\n",
        "        'remaining_misses': max_misses,\n",
        "        'previous_guesses': [],\n",
        "        'status': 'ongoing'\n",
        "    }\n",
        "    return game\n"
      ],
      "metadata": {
        "id": "I1Yd_BwQyd4T"
      },
      "execution_count": 5,
      "outputs": []
    },
    {
      "cell_type": "code",
      "source": [
        "words = ['Python', 'Hangman', 'Challenge']\n",
        "game = start_new_game(words, 5)\n",
        "\n",
        "print(game)  # Initial game state\n",
        "\n",
        "game = guess(game, 'p')\n",
        "print(game)  # After guessing a letter\n",
        "\n",
        "game = guess(game, 'h')\n",
        "print(game)  # After another guess\n"
      ],
      "metadata": {
        "colab": {
          "base_uri": "https://localhost:8080/"
        },
        "id": "Tdm1Iao_yi0z",
        "outputId": "0b6f07b6-0f7f-4fcc-f43c-1580a3dbadcf"
      },
      "execution_count": 6,
      "outputs": [
        {
          "output_type": "stream",
          "name": "stdout",
          "text": [
            "{'answer_word': 'Python', 'masked_word': '******', 'remaining_misses': 5, 'previous_guesses': [], 'status': 'ongoing'}\n",
            "{'answer_word': 'Python', 'masked_word': 'P*****', 'remaining_misses': 5, 'previous_guesses': ['p'], 'status': 'ongoing'}\n",
            "{'answer_word': 'Python', 'masked_word': 'P**h**', 'remaining_misses': 5, 'previous_guesses': ['p', 'h'], 'status': 'ongoing'}\n"
          ]
        }
      ]
    },
    {
      "cell_type": "code",
      "source": [],
      "metadata": {
        "id": "JTF4JsyfzD0o"
      },
      "execution_count": null,
      "outputs": []
    }
  ]
}